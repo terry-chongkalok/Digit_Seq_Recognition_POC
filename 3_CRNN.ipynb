{
 "cells": [
  {
   "cell_type": "code",
   "execution_count": 1,
   "id": "59ea38ff-d960-4af5-9e88-831923da0458",
   "metadata": {
    "execution": {
     "iopub.execute_input": "2023-04-04T12:29:34.926351Z",
     "iopub.status.busy": "2023-04-04T12:29:34.926019Z",
     "iopub.status.idle": "2023-04-04T12:29:34.990417Z",
     "shell.execute_reply": "2023-04-04T12:29:34.989830Z",
     "shell.execute_reply.started": "2023-04-04T12:29:34.926321Z"
    },
    "tags": []
   },
   "outputs": [],
   "source": [
    "%load_ext tensorboard"
   ]
  },
  {
   "cell_type": "code",
   "execution_count": 2,
   "id": "2ba87403-12a6-453f-a971-cbd6ba736e3f",
   "metadata": {
    "execution": {
     "iopub.execute_input": "2023-04-04T12:29:35.097025Z",
     "iopub.status.busy": "2023-04-04T12:29:35.096668Z",
     "iopub.status.idle": "2023-04-04T12:29:36.803317Z",
     "shell.execute_reply": "2023-04-04T12:29:36.802871Z",
     "shell.execute_reply.started": "2023-04-04T12:29:35.097001Z"
    },
    "tags": []
   },
   "outputs": [],
   "source": [
    "from typing import Optional, Callable, Union\n",
    "import numpy as np\n",
    "import pandas as pd\n",
    "\n",
    "from pathlib import Path\n",
    "import glob\n",
    "\n",
    "import matplotlib.pyplot as plt\n",
    "from PIL import Image\n",
    "\n",
    "from tqdm import tqdm\n",
    "\n",
    "import torch\n",
    "import torch.nn as nn\n",
    "from torch import optim\n",
    "from torch.utils.data import Dataset, DataLoader, random_split\n",
    "from torchvision import transforms\n",
    "\n",
    "from torch.utils.tensorboard import SummaryWriter\n",
    "\n",
    "from sklearn.metrics import accuracy_score, classification_report, confusion_matrix\n",
    "\n",
    "from itertools import groupby\n",
    "\n",
    "import warnings\n",
    "warnings.filterwarnings('ignore')\n",
    "\n",
    "# custom class for Early Stop and function for fixing random seed\n",
    "from early_stop import EarlyStopper\n",
    "from random_seed import seed_everything"
   ]
  },
  {
   "cell_type": "code",
   "execution_count": 3,
   "id": "0331f29b-c5e1-4a55-aaf9-31dd0b00300e",
   "metadata": {
    "execution": {
     "iopub.execute_input": "2023-04-04T12:29:36.804872Z",
     "iopub.status.busy": "2023-04-04T12:29:36.804640Z",
     "iopub.status.idle": "2023-04-04T12:29:36.808406Z",
     "shell.execute_reply": "2023-04-04T12:29:36.808087Z",
     "shell.execute_reply.started": "2023-04-04T12:29:36.804861Z"
    },
    "tags": []
   },
   "outputs": [],
   "source": [
    "seed_everything(42)"
   ]
  },
  {
   "cell_type": "code",
   "execution_count": 4,
   "id": "36002f61-0f23-4429-ae7a-f00bf7e4ba6c",
   "metadata": {
    "execution": {
     "iopub.execute_input": "2023-04-04T12:29:36.808891Z",
     "iopub.status.busy": "2023-04-04T12:29:36.808785Z",
     "iopub.status.idle": "2023-04-04T12:29:36.810980Z",
     "shell.execute_reply": "2023-04-04T12:29:36.810682Z",
     "shell.execute_reply.started": "2023-04-04T12:29:36.808881Z"
    },
    "tags": []
   },
   "outputs": [],
   "source": [
    "pretrained_cnn_path ='Model/Pretrained_CNN/final_cnn.pt'\n",
    "\n",
    "base_lr = 1e-4\n",
    "max_lr = 0.01\n",
    "batch_size = 64\n",
    "epochs = 200\n",
    "\n",
    "char_list = list('0123456789')"
   ]
  },
  {
   "cell_type": "code",
   "execution_count": 5,
   "id": "9914b652-605d-4813-9ce2-5c6aa3b399b3",
   "metadata": {
    "execution": {
     "iopub.execute_input": "2023-04-04T12:29:37.483800Z",
     "iopub.status.busy": "2023-04-04T12:29:37.483268Z",
     "iopub.status.idle": "2023-04-04T12:29:37.495797Z",
     "shell.execute_reply": "2023-04-04T12:29:37.494222Z",
     "shell.execute_reply.started": "2023-04-04T12:29:37.483769Z"
    },
    "tags": []
   },
   "outputs": [],
   "source": [
    "class SeqImg(Dataset):\n",
    "    def __init__(self, folder_path='img/five_digits', transform=None):\n",
    "        self.folder_path = folder_path\n",
    "        self.files_list = glob.glob(self.folder_path + '/*.png', recursive=True)\n",
    "        self.labels_list = [Path(x).name.split('_')[0] for x in self.files_list]\n",
    "        self.data_df = pd.DataFrame({'file_path': self.files_list, 'label': self.labels_list})\n",
    "        \n",
    "        self.transform = transform\n",
    "        \n",
    "    def __len__(self):\n",
    "        return len(self.files_list)\n",
    "    \n",
    "    def __getitem__(self, index: int):\n",
    "        image = np.asarray(Image.open(self.files_list[index]))\n",
    "        label_raw = self.labels_list[index]\n",
    "        label = torch.Tensor([int(digit) for digit in label_raw])\n",
    "        file_path = self.files_list[index]\n",
    "        if self.transform is not None:\n",
    "            image = self.transform(image)            \n",
    "        return image, label, label_raw, file_path"
   ]
  },
  {
   "cell_type": "code",
   "execution_count": 6,
   "id": "e80f1bde-b224-4edd-8df5-921b45b74ba0",
   "metadata": {
    "execution": {
     "iopub.execute_input": "2023-04-04T12:29:37.739353Z",
     "iopub.status.busy": "2023-04-04T12:29:37.738782Z",
     "iopub.status.idle": "2023-04-04T12:29:37.745318Z",
     "shell.execute_reply": "2023-04-04T12:29:37.743995Z",
     "shell.execute_reply.started": "2023-04-04T12:29:37.739319Z"
    },
    "tags": []
   },
   "outputs": [],
   "source": [
    "trans_to_tensor = transforms.ToTensor()"
   ]
  },
  {
   "cell_type": "code",
   "execution_count": 7,
   "id": "ac872cce-3f3a-4031-82ee-e7b3674f1866",
   "metadata": {
    "execution": {
     "iopub.execute_input": "2023-04-04T12:29:37.961404Z",
     "iopub.status.busy": "2023-04-04T12:29:37.960899Z",
     "iopub.status.idle": "2023-04-04T12:29:38.109115Z",
     "shell.execute_reply": "2023-04-04T12:29:38.108647Z",
     "shell.execute_reply.started": "2023-04-04T12:29:37.961373Z"
    },
    "tags": []
   },
   "outputs": [],
   "source": [
    "img_dataset = SeqImg(transform=trans_to_tensor)"
   ]
  },
  {
   "cell_type": "code",
   "execution_count": 8,
   "id": "ce29c4e2-fed8-4538-b54a-0e0d4bb160ec",
   "metadata": {
    "execution": {
     "iopub.execute_input": "2023-04-04T12:29:38.183605Z",
     "iopub.status.busy": "2023-04-04T12:29:38.183314Z",
     "iopub.status.idle": "2023-04-04T12:29:38.190143Z",
     "shell.execute_reply": "2023-04-04T12:29:38.189589Z",
     "shell.execute_reply.started": "2023-04-04T12:29:38.183586Z"
    },
    "tags": []
   },
   "outputs": [
    {
     "data": {
      "text/plain": [
       "20000"
      ]
     },
     "execution_count": 8,
     "metadata": {},
     "output_type": "execute_result"
    }
   ],
   "source": [
    "len(img_dataset)"
   ]
  },
  {
   "cell_type": "code",
   "execution_count": 9,
   "id": "925d332f-cff0-43f6-8b5a-8d74e81d5ec5",
   "metadata": {
    "execution": {
     "iopub.execute_input": "2023-04-04T12:29:38.412156Z",
     "iopub.status.busy": "2023-04-04T12:29:38.411476Z",
     "iopub.status.idle": "2023-04-04T12:29:38.420730Z",
     "shell.execute_reply": "2023-04-04T12:29:38.419673Z",
     "shell.execute_reply.started": "2023-04-04T12:29:38.412088Z"
    },
    "tags": []
   },
   "outputs": [],
   "source": [
    "train_test_split_size = (len(img_dataset) - 1000, 1000)\n",
    "train_val_ds, test_ds = random_split(img_dataset, train_test_split_size)"
   ]
  },
  {
   "cell_type": "code",
   "execution_count": 10,
   "id": "bb50c6b5-065e-46f2-a08d-1759c1af6dd7",
   "metadata": {
    "execution": {
     "iopub.execute_input": "2023-04-04T12:29:38.666264Z",
     "iopub.status.busy": "2023-04-04T12:29:38.665738Z",
     "iopub.status.idle": "2023-04-04T12:29:38.673142Z",
     "shell.execute_reply": "2023-04-04T12:29:38.671823Z",
     "shell.execute_reply.started": "2023-04-04T12:29:38.666231Z"
    },
    "tags": []
   },
   "outputs": [],
   "source": [
    "train_val_split_size = (len(train_val_ds) - 1000, 1000)\n",
    "train_ds, val_ds = random_split(train_val_ds, train_val_split_size)"
   ]
  },
  {
   "cell_type": "code",
   "execution_count": 11,
   "id": "775b40e4-aa91-4283-8fa0-7bb018cc2cf9",
   "metadata": {
    "execution": {
     "iopub.execute_input": "2023-04-04T12:29:39.678704Z",
     "iopub.status.busy": "2023-04-04T12:29:39.677723Z",
     "iopub.status.idle": "2023-04-04T12:29:39.686618Z",
     "shell.execute_reply": "2023-04-04T12:29:39.685586Z",
     "shell.execute_reply.started": "2023-04-04T12:29:39.678642Z"
    },
    "tags": []
   },
   "outputs": [
    {
     "data": {
      "text/plain": [
       "18000"
      ]
     },
     "execution_count": 11,
     "metadata": {},
     "output_type": "execute_result"
    }
   ],
   "source": [
    "len(train_ds)"
   ]
  },
  {
   "cell_type": "code",
   "execution_count": 12,
   "id": "36e1406d-ba9b-44e8-8e23-609aea6178f6",
   "metadata": {
    "execution": {
     "iopub.execute_input": "2023-04-04T12:29:39.962915Z",
     "iopub.status.busy": "2023-04-04T12:29:39.962315Z",
     "iopub.status.idle": "2023-04-04T12:29:39.973156Z",
     "shell.execute_reply": "2023-04-04T12:29:39.971460Z",
     "shell.execute_reply.started": "2023-04-04T12:29:39.962879Z"
    },
    "tags": []
   },
   "outputs": [],
   "source": [
    "def padding_collate(batch):\n",
    "    imgs = torch.stack([items[0] for items in batch])\n",
    "    seqs = [items[1] for items in batch]\n",
    "    seqs = nn.utils.rnn.pad_sequence(seqs, padding_value=len(char_list), batch_first=True) # pad shorter seq with new class (class index=len(char_list))\n",
    "    seqs_raw = [items[2] for items in batch]\n",
    "    file_paths = [items[3] for items in batch]\n",
    "    \n",
    "    return imgs, seqs, seqs_raw, file_paths"
   ]
  },
  {
   "cell_type": "code",
   "execution_count": 13,
   "id": "ddb9433e-b00a-41ac-8bcb-5882262836f4",
   "metadata": {
    "execution": {
     "iopub.execute_input": "2023-04-04T12:29:40.219151Z",
     "iopub.status.busy": "2023-04-04T12:29:40.218617Z",
     "iopub.status.idle": "2023-04-04T12:29:40.225116Z",
     "shell.execute_reply": "2023-04-04T12:29:40.224068Z",
     "shell.execute_reply.started": "2023-04-04T12:29:40.219122Z"
    },
    "tags": []
   },
   "outputs": [],
   "source": [
    "train_loader = DataLoader(train_ds, batch_size=batch_size, shuffle=True, collate_fn=padding_collate)\n",
    "val_loader = DataLoader(val_ds, batch_size=1000, shuffle=True, collate_fn=padding_collate)\n",
    "test_loader = DataLoader(test_ds, batch_size=1000, shuffle=True, collate_fn=padding_collate)"
   ]
  },
  {
   "cell_type": "code",
   "execution_count": 14,
   "id": "f8e189a1-3ecf-47db-b62f-ee64e55a99ae",
   "metadata": {
    "execution": {
     "iopub.execute_input": "2023-04-04T12:29:40.460216Z",
     "iopub.status.busy": "2023-04-04T12:29:40.459682Z",
     "iopub.status.idle": "2023-04-04T12:29:40.586548Z",
     "shell.execute_reply": "2023-04-04T12:29:40.586104Z",
     "shell.execute_reply.started": "2023-04-04T12:29:40.460187Z"
    },
    "tags": []
   },
   "outputs": [
    {
     "data": {
      "image/png": "[encoded data removed]",
      "text/plain": [
       "<Figure size 1000x600 with 5 Axes>"
      ]
     },
     "metadata": {},
     "output_type": "display_data"
    }
   ],
   "source": [
    "sample_img, sample_seqs, sample_seqs_raw, sample_file_path = next(iter(train_loader))\n",
    "\n",
    "plt.rcParams['figure.figsize'] = (10, 6)\n",
    "fig, axs = plt.subplots(ncols=5)\n",
    "\n",
    "for i, img_arr in enumerate(sample_img[0:5]):\n",
    "    axs[i].imshow(transforms.ToPILImage()(img_arr))\n",
    "    axs[i].axis('off')"
   ]
  },
  {
   "cell_type": "markdown",
   "id": "76ffb35f-5a2f-4a1c-96b6-9174ff95cfe3",
   "metadata": {},
   "source": [
    "# Model Development"
   ]
  },
  {
   "cell_type": "code",
   "execution_count": 15,
   "id": "51e1aefe-1b11-40ad-bdb7-c3dbea4922dd",
   "metadata": {
    "execution": {
     "iopub.execute_input": "2023-04-04T12:29:41.675841Z",
     "iopub.status.busy": "2023-04-04T12:29:41.675304Z",
     "iopub.status.idle": "2023-04-04T12:29:41.683722Z",
     "shell.execute_reply": "2023-04-04T12:29:41.682419Z",
     "shell.execute_reply.started": "2023-04-04T12:29:41.675806Z"
    },
    "tags": []
   },
   "outputs": [],
   "source": [
    "class CNN(nn.Module):\n",
    "    # load pretrained CNN model, and keep the convolutional blocks only\n",
    "    def __init__(self, model_path=pretrained_cnn_path):\n",
    "        super().__init__()\n",
    "        orig_cnn_model = torch.load(model_path)\n",
    "        self.cnn = orig_cnn_model.conv_blocks\n",
    "        \n",
    "    def forward(self, X):\n",
    "        X = self.cnn(X)\n",
    "        return X"
   ]
  },
  {
   "cell_type": "code",
   "execution_count": 16,
   "id": "f54b3093-c837-42e7-bb0b-965e232b6f13",
   "metadata": {
    "execution": {
     "iopub.execute_input": "2023-04-04T12:29:41.950723Z",
     "iopub.status.busy": "2023-04-04T12:29:41.950100Z",
     "iopub.status.idle": "2023-04-04T12:29:41.962769Z",
     "shell.execute_reply": "2023-04-04T12:29:41.961896Z",
     "shell.execute_reply.started": "2023-04-04T12:29:41.950692Z"
    },
    "tags": []
   },
   "outputs": [],
   "source": [
    "cnn_block = CNN()"
   ]
  },
  {
   "cell_type": "code",
   "execution_count": 17,
   "id": "b378b0c1-038f-4047-8a61-056341350080",
   "metadata": {
    "execution": {
     "iopub.execute_input": "2023-04-04T12:29:42.750877Z",
     "iopub.status.busy": "2023-04-04T12:29:42.750163Z",
     "iopub.status.idle": "2023-04-04T12:29:42.758077Z",
     "shell.execute_reply": "2023-04-04T12:29:42.757116Z",
     "shell.execute_reply.started": "2023-04-04T12:29:42.750823Z"
    },
    "tags": []
   },
   "outputs": [
    {
     "data": {
      "text/plain": [
       "CNN(\n",
       "  (cnn): Sequential(\n",
       "    (0): Conv2d(3, 64, kernel_size=(3, 3), stride=(1, 1), padding=(1, 1))\n",
       "    (1): BatchNorm2d(64, eps=1e-05, momentum=0.1, affine=True, track_running_stats=True)\n",
       "    (2): ReLU()\n",
       "    (3): MaxPool2d(kernel_size=2, stride=2, padding=0, dilation=1, ceil_mode=False)\n",
       "    (4): Conv2d(64, 32, kernel_size=(3, 3), stride=(1, 1), padding=(1, 1))\n",
       "    (5): BatchNorm2d(32, eps=1e-05, momentum=0.1, affine=True, track_running_stats=True)\n",
       "    (6): ReLU()\n",
       "    (7): MaxPool2d(kernel_size=2, stride=2, padding=0, dilation=1, ceil_mode=False)\n",
       "  )\n",
       ")"
      ]
     },
     "execution_count": 17,
     "metadata": {},
     "output_type": "execute_result"
    }
   ],
   "source": [
    "cnn_block"
   ]
  },
  {
   "cell_type": "code",
   "execution_count": 18,
   "id": "317e6867-9f50-4249-93b5-a37e5553b96d",
   "metadata": {
    "execution": {
     "iopub.execute_input": "2023-04-04T12:29:43.420450Z",
     "iopub.status.busy": "2023-04-04T12:29:43.419947Z",
     "iopub.status.idle": "2023-04-04T12:29:43.426009Z",
     "shell.execute_reply": "2023-04-04T12:29:43.424214Z",
     "shell.execute_reply.started": "2023-04-04T12:29:43.420421Z"
    },
    "tags": []
   },
   "outputs": [],
   "source": [
    "cnn_out_channel = cnn_block.cnn[4].out_channels"
   ]
  },
  {
   "cell_type": "code",
   "execution_count": 19,
   "id": "95f775f9-9a92-421d-bb42-bc8b3dfe9093",
   "metadata": {
    "execution": {
     "iopub.execute_input": "2023-04-04T12:29:43.674563Z",
     "iopub.status.busy": "2023-04-04T12:29:43.674064Z",
     "iopub.status.idle": "2023-04-04T12:29:43.681793Z",
     "shell.execute_reply": "2023-04-04T12:29:43.679710Z",
     "shell.execute_reply.started": "2023-04-04T12:29:43.674534Z"
    },
    "tags": []
   },
   "outputs": [],
   "source": [
    "char_list_padded = char_list + ['']"
   ]
  },
  {
   "cell_type": "code",
   "execution_count": 20,
   "id": "d815c83b-b8e2-458f-b74d-e979c05f5f53",
   "metadata": {
    "execution": {
     "iopub.execute_input": "2023-04-04T12:29:44.274170Z",
     "iopub.status.busy": "2023-04-04T12:29:44.273661Z",
     "iopub.status.idle": "2023-04-04T12:29:44.294417Z",
     "shell.execute_reply": "2023-04-04T12:29:44.293289Z",
     "shell.execute_reply.started": "2023-04-04T12:29:44.274141Z"
    },
    "tags": []
   },
   "outputs": [],
   "source": [
    "class CRNN(nn.Module):\n",
    "    def __init__(self, char_list=char_list_padded, cnn=cnn_block, cnn_trainable=False, cnn_out_channel=cnn_out_channel,\n",
    "                rnn_hidden_size=256, rnn_num_layers=2):\n",
    "        super().__init__()\n",
    "        \n",
    "        self.char_list = char_list\n",
    "        self.num_classes = len(self.char_list)\n",
    "        \n",
    "        self.cnn = cnn\n",
    "        self.cnn_trainable = cnn_trainable\n",
    "        \n",
    "        self.rnn_hidden_size = rnn_hidden_size\n",
    "        self.rnn_num_layers = rnn_num_layers\n",
    "        self.rnn = nn.GRU(cnn_out_channel * 10, # input: a sequence of 10 (40//4) tensors with size `cnn_out_channel` * 10 (40//4)\n",
    "                          rnn_hidden_size, rnn_num_layers,\n",
    "                          batch_first=False, bidirectional=True)\n",
    "        self.fc = nn.Linear(rnn_hidden_size * 2, self.num_classes + 1) # * 2 due to bidirectional, + 1 due to the extra `blank` class from CTCLoss\n",
    "        self.softmax = nn.Softmax(dim=-1)\n",
    "        \n",
    "    def forward(self, X, decode=False, softmax=False):\n",
    "        with torch.set_grad_enabled(self.cnn_trainable):\n",
    "            features = self.cnn(X)\n",
    "        features = self.features_to_seq(features)\n",
    "        seq, hidden = self.rnn(features)\n",
    "        seq = self.fc(seq)\n",
    "        if softmax or decode:\n",
    "            seq = self.softmax(seq)\n",
    "        if decode:\n",
    "            seq = self.decode(seq)\n",
    "        return seq\n",
    "    \n",
    "    def features_to_seq(self, features):\n",
    "        b, c, h, w = features.shape\n",
    "        reshaped_features = features.view(b, c * h, w)\n",
    "        reshaped_features = reshaped_features.permute(2, 0, 1) # input for GRU: (width (seq length), batch, input features)\n",
    "        return reshaped_features\n",
    "        \n",
    "    def pred_to_str(self, pred):\n",
    "        char_list_with_blank = self.char_list + [''] # `blank` label for CTCLoss, so 2 empty str ('') in the list here including the padding label\n",
    "        out_str = ''.join([char_list_with_blank[i[0]] for i in groupby(pred)]) # `groupby` aggregated consecutive duplicates together\n",
    "        return out_str\n",
    "        \n",
    "    def decode(self, pred):\n",
    "        seq = [self.pred_to_str(seq_list) for seq_list in pred.argmax(dim=-1).permute(1, 0)]\n",
    "        return seq"
   ]
  },
  {
   "cell_type": "code",
   "execution_count": 21,
   "id": "f1588b21-4629-433e-ac88-305fd535a59e",
   "metadata": {
    "execution": {
     "iopub.execute_input": "2023-04-04T12:29:45.085288Z",
     "iopub.status.busy": "2023-04-04T12:29:45.084462Z",
     "iopub.status.idle": "2023-04-04T12:29:45.116031Z",
     "shell.execute_reply": "2023-04-04T12:29:45.115237Z",
     "shell.execute_reply.started": "2023-04-04T12:29:45.085248Z"
    },
    "tags": []
   },
   "outputs": [],
   "source": [
    "def train_crnn_model(data_loader: DataLoader = train_loader, base_lr: float = base_lr, max_lr: float = max_lr, epochs: int = epochs,\n",
    "                    model_trained: Optional[nn.Module] = None, model_class: Optional[Callable] = None, cnn_trainable: bool = False,\n",
    "                    num_epochs_to_save: float = np.inf, model_path: str = 'Model/CRNN', \n",
    "                    train_acc: bool = False, epochs_trained_before: int = 0,\n",
    "                    early_stop: bool = False, es_after_epoch: int = 0, val_loader: Optional[DataLoader] = None, \n",
    "                    patience: int = 10, min_delta: float = 0, tensorboard_path: str = 'runs/CRNN',                              \n",
    "                    **kwargs) -> nn.Module:\n",
    "    \n",
    "    \"\"\"\n",
    "    data_loader: Data Loader of training data.\n",
    "    \n",
    "    base_lr, max_lr, epochs: Hyperparameters.\n",
    "    \n",
    "    model_trained, model_class: Either a trained model instance (model_trained), or a model class that is callable (model_class) to create a new model instance. \n",
    "                                         \n",
    "    cnn_trainable: params of CNN will be freezed and untrainable if it is False. Else, the params will be updated in the training process.\n",
    "    \n",
    "    num_epochs_to_save, model_path: For every `num_epochs_to_save` epochs, th emodel will be saved to folder `model_path`. `num_epochs_to_save=np.inf` means never save the model.\n",
    "    \n",
    "    train_acc: Calculate the training accuracy for every epoch (and send to Tensorboard) or not\n",
    "    \n",
    "    epochs_trained_before: if the model is trained before, this number is added to the number of epochs in this training process. Useful when passing a trained model to here for more training epochs.\n",
    "    \n",
    "    early_stop: Early Stop or not.\n",
    "    \n",
    "    es_after_epoch: Epochs smaller than `es_after_epoch` will not trigger the calculation of early stop.\n",
    "    \n",
    "    val_loader: Data Loader of validation data (for early stop).\n",
    "    \n",
    "    patience, min_delta: arguments for `EarlyStopper`\n",
    "    \n",
    "    tensorboard_path: Folder path where the `SummaryWriter` for Tensorboard to write the data to\n",
    "    \n",
    "    kwargs: arguments for the callable model class(if any)    \n",
    "    \"\"\"\n",
    "    \n",
    "    writer = SummaryWriter(tensorboard_path)\n",
    "    \n",
    "    Path(model_path).mkdir(parents=True, exist_ok=True)\n",
    "    \n",
    "    model_to_train = model_trained or model_class(**kwargs)\n",
    "    model_to_train.cnn_trainable = cnn_trainable\n",
    "    \n",
    "    opt = optim.SGD(model_to_train.parameters(), lr=base_lr)\n",
    "    steps_per_epoch = len(data_loader) * 2\n",
    "    scheduler = optim.lr_scheduler.CyclicLR(opt, base_lr=base_lr, max_lr=max_lr, step_size_up=steps_per_epoch)\n",
    "    blank_class = len(model_to_train.char_list)\n",
    "    loss_fn = nn.CTCLoss(blank=blank_class)\n",
    "    \n",
    "    if early_stop:\n",
    "        early_stopper = EarlyStopper(patience, min_delta)\n",
    "        \n",
    "    for epoch in tqdm(range(epochs_trained_before, epochs_trained_before + epochs), position=0):\n",
    "        model_to_train.train()\n",
    "        tot_loss = 0\n",
    "        num_data = 0\n",
    "        for inputs, targets, *_ in data_loader:\n",
    "            opt.zero_grad()\n",
    "            y_pred = model_to_train(inputs)\n",
    "            pred_lens = torch.full((targets.shape[0],), y_pred.shape[0], dtype=int)\n",
    "            target_lens = torch.full((targets.shape[0],), targets.shape[1], dtype=int)\n",
    "            loss = loss_fn(y_pred.log_softmax(dim=-1), targets, pred_lens, target_lens)\n",
    "            tot_loss += loss * len(targets)\n",
    "            num_data += len(targets)\n",
    "            loss.backward()\n",
    "            opt.step()\n",
    "            scheduler.step()\n",
    "        writer.add_scalar('Loss/train', tot_loss / num_data, epoch)\n",
    "        \n",
    "        if not( (epoch + 1) % num_epochs_to_save):\n",
    "            Path(model_path).mkdir(parents=True, exist_ok=True)\n",
    "            torch.save(model_to_train, model_path + f'/model_ep{epoch + 1}.pt')\n",
    "        \n",
    "        if train_acc:\n",
    "            model_to_train.eval()\n",
    "            correct_train = 0\n",
    "            for inputs, targets, target_raw, file_path in data_loader:\n",
    "                y_pred = model_to_train(inputs, decode=True)\n",
    "                correct_train += sum([a==b for a, b in zip(y_pred, target_raw)])\n",
    "            writer.add_scalar('Accuracy/train', correct_train / num_data, epoch)\n",
    "            \n",
    "        if early_stop and (epoch + 1) > es_after_epoch:\n",
    "            model_to_train.eval()\n",
    "            tot_val_loss = 0\n",
    "            num_val_data = 0\n",
    "            for inputs, targets, *_ in val_loader:\n",
    "                y_pred = model_to_train(inputs)\n",
    "                pred_lens = torch.full((targets.shape[0],), y_pred.shape[0], dtype=int)\n",
    "                target_lens = torch.full((targets.shape[0],), targets.shape[1], dtype=int)\n",
    "                loss = loss_fn(y_pred.log_softmax(dim=-1), targets, pred_lens, target_lens)\n",
    "                tot_val_loss += loss * len(targets)\n",
    "                num_val_data += len(targets)\n",
    "            writer.add_scalar('Loss/validation', tot_val_loss / num_val_data, epoch)\n",
    "            stop_training = early_stopper(tot_val_loss / num_val_data)\n",
    "            if stop_training:\n",
    "                print(f\"Training early stopped at Epoch {epoch + 1}.\")\n",
    "                torch.save(model_to_train, model_path + f'/model_ep{epoch + 1}.pt')\n",
    "                writer.flush()\n",
    "                writer.close()\n",
    "                return model_to_train\n",
    "    \n",
    "    torch.save(model_to_train, model_path + f'/model_ep{epoch + 1}.pt')\n",
    "    writer.flush()\n",
    "    writer.close()\n",
    "    return model_to_train"
   ]
  },
  {
   "cell_type": "code",
   "execution_count": 22,
   "id": "5735462c-a31d-4ec2-b944-a9c9fd8c01e0",
   "metadata": {
    "execution": {
     "iopub.execute_input": "2023-04-04T13:47:59.836180Z",
     "iopub.status.busy": "2023-04-04T13:47:59.833858Z",
     "iopub.status.idle": "2023-04-04T13:53:18.225466Z",
     "shell.execute_reply": "2023-04-04T13:53:18.224421Z",
     "shell.execute_reply.started": "2023-04-04T13:47:59.836114Z"
    },
    "tags": []
   },
   "outputs": [
    {
     "name": "stderr",
     "output_type": "stream",
     "text": [
      "  0%|                                                     | 0/5 [00:00<?, ?it/s][W NNPACK.cpp:51] Could not initialize NNPACK! Reason: Unsupported hardware.\n",
      "100%|█████████████████████████████████████████████| 5/5 [05:18<00:00, 63.64s/it]\n"
     ]
    }
   ],
   "source": [
    "crnn_model = train_crnn_model(model_class=CRNN, epochs=5)"
   ]
  },
  {
   "cell_type": "code",
   "execution_count": 23,
   "id": "96db56c8-8f7a-4979-9e97-ea5280c79db4",
   "metadata": {
    "execution": {
     "iopub.execute_input": "2023-04-04T13:53:18.227858Z",
     "iopub.status.busy": "2023-04-04T13:53:18.227578Z",
     "iopub.status.idle": "2023-04-04T13:53:20.284294Z",
     "shell.execute_reply": "2023-04-04T13:53:20.283258Z",
     "shell.execute_reply.started": "2023-04-04T13:53:18.227839Z"
    },
    "tags": []
   },
   "outputs": [
    {
     "data": {
      "text/html": [
       "\n",
       "      <iframe id=\"tensorboard-frame-1c80317fa3b1799d\" width=\"100%\" height=\"800\" frameborder=\"0\">\n",
       "      </iframe>\n",
       "      <script>\n",
       "        (function() {\n",
       "          const frame = document.getElementById(\"tensorboard-frame-1c80317fa3b1799d\");\n",
       "          const url = new URL(\"/\", window.location);\n",
       "          const port = 6007;\n",
       "          if (port) {\n",
       "            url.port = port;\n",
       "          }\n",
       "          frame.src = url;\n",
       "        })();\n",
       "      </script>\n",
       "    "
      ],
      "text/plain": [
       "<IPython.core.display.HTML object>"
      ]
     },
     "metadata": {},
     "output_type": "display_data"
    }
   ],
   "source": [
    "%tensorboard --logdir=runs/CRNN"
   ]
  },
  {
   "cell_type": "code",
   "execution_count": 24,
   "id": "2e9aef94-fa7b-4193-9711-3f9a8c72cb02",
   "metadata": {
    "execution": {
     "iopub.execute_input": "2023-04-04T16:35:49.530980Z",
     "iopub.status.busy": "2023-04-04T16:35:49.529263Z",
     "iopub.status.idle": "2023-04-05T00:22:19.936461Z",
     "shell.execute_reply": "2023-04-05T00:22:19.934722Z",
     "shell.execute_reply.started": "2023-04-04T16:35:49.530924Z"
    },
    "tags": []
   },
   "outputs": [
    {
     "name": "stderr",
     "output_type": "stream",
     "text": [
      " 62%|██████████████████████▌             | 125/200 [7:46:30<4:39:54, 223.92s/it]"
     ]
    },
    {
     "name": "stdout",
     "output_type": "stream",
     "text": [
      "Training early stopped at Epoch 131.\n"
     ]
    },
    {
     "name": "stderr",
     "output_type": "stream",
     "text": [
      "\n"
     ]
    }
   ],
   "source": [
    "crnn_model = train_crnn_model(model_trained=crnn_model, epochs=200, epochs_trained_before=5,\n",
    "                              num_epochs_to_save = 10, es_after_epoch=100, \n",
    "                              patience=20, min_delta=0.005,\n",
    "                              early_stop=True, val_loader=val_loader)"
   ]
  },
  {
   "cell_type": "code",
   "execution_count": 25,
   "id": "96c55d82-99fc-4642-b243-1a3c7fcce2dc",
   "metadata": {
    "execution": {
     "iopub.execute_input": "2023-04-05T00:22:19.938262Z",
     "iopub.status.busy": "2023-04-05T00:22:19.938047Z",
     "iopub.status.idle": "2023-04-05T00:22:20.063498Z",
     "shell.execute_reply": "2023-04-05T00:22:20.062979Z",
     "shell.execute_reply.started": "2023-04-05T00:22:19.938248Z"
    },
    "tags": []
   },
   "outputs": [],
   "source": [
    "# check the recognition result on some sample images from training data\n",
    "crnn_model.eval()\n",
    "pred_decoded = crnn_model(sample_img, decode=True)"
   ]
  },
  {
   "cell_type": "code",
   "execution_count": 26,
   "id": "5215245a-a428-457e-91fb-834ccfb7ecd2",
   "metadata": {
    "execution": {
     "iopub.execute_input": "2023-04-05T00:22:20.064139Z",
     "iopub.status.busy": "2023-04-05T00:22:20.064018Z",
     "iopub.status.idle": "2023-04-05T00:22:20.067794Z",
     "shell.execute_reply": "2023-04-05T00:22:20.067432Z",
     "shell.execute_reply.started": "2023-04-05T00:22:20.064128Z"
    },
    "tags": []
   },
   "outputs": [
    {
     "data": {
      "text/plain": [
       "60"
      ]
     },
     "execution_count": 26,
     "metadata": {},
     "output_type": "execute_result"
    }
   ],
   "source": [
    "sum([a==b for a, b in zip(pred_decoded, sample_seqs_raw)])"
   ]
  },
  {
   "cell_type": "code",
   "execution_count": 27,
   "id": "86ad9ff5-6744-4d59-8b5e-5c742cc05d8b",
   "metadata": {
    "execution": {
     "iopub.execute_input": "2023-04-05T00:22:20.069292Z",
     "iopub.status.busy": "2023-04-05T00:22:20.069132Z",
     "iopub.status.idle": "2023-04-05T00:22:20.073644Z",
     "shell.execute_reply": "2023-04-05T00:22:20.072998Z",
     "shell.execute_reply.started": "2023-04-05T00:22:20.069279Z"
    },
    "tags": []
   },
   "outputs": [],
   "source": [
    "def compare_pred(pred_seq=pred_decoded, actual_seq=sample_seqs_raw, ind=0, img=sample_img, plt_img=False):\n",
    "    if plt_img:\n",
    "        plt.imshow(transforms.ToPILImage()(img[ind]))\n",
    "    print(f'Acutal Seq: {actual_seq[ind]}')\n",
    "    print(f'Predicted Seq: {pred_seq[ind]}')\n",
    "    return 'Recognition Correct.' if actual_seq[ind] == pred_seq[ind] else 'Recognition failed!'"
   ]
  },
  {
   "cell_type": "code",
   "execution_count": 28,
   "id": "f8089fdf-fe51-49be-9d11-d0b59c7a762f",
   "metadata": {
    "execution": {
     "iopub.execute_input": "2023-04-05T00:22:20.074497Z",
     "iopub.status.busy": "2023-04-05T00:22:20.074364Z",
     "iopub.status.idle": "2023-04-05T00:22:20.195368Z",
     "shell.execute_reply": "2023-04-05T00:22:20.194880Z",
     "shell.execute_reply.started": "2023-04-05T00:22:20.074485Z"
    },
    "tags": []
   },
   "outputs": [
    {
     "name": "stdout",
     "output_type": "stream",
     "text": [
      "Acutal Seq: 23626\n",
      "Predicted Seq: 23626\n"
     ]
    },
    {
     "data": {
      "text/plain": [
       "'Recognition Correct.'"
      ]
     },
     "execution_count": 28,
     "metadata": {},
     "output_type": "execute_result"
    },
    {
     "data": {
      "image/png": "[encoded data removed]",
      "text/plain": [
       "<Figure size 1000x600 with 1 Axes>"
      ]
     },
     "metadata": {},
     "output_type": "display_data"
    }
   ],
   "source": [
    "compare_pred(plt_img=True)"
   ]
  },
  {
   "cell_type": "code",
   "execution_count": 29,
   "id": "78b64dc7-64fe-4e87-ad97-58e6bf5d3dd9",
   "metadata": {
    "execution": {
     "iopub.execute_input": "2023-04-05T00:22:20.196178Z",
     "iopub.status.busy": "2023-04-05T00:22:20.196002Z",
     "iopub.status.idle": "2023-04-05T00:22:20.293567Z",
     "shell.execute_reply": "2023-04-05T00:22:20.293197Z",
     "shell.execute_reply.started": "2023-04-05T00:22:20.196165Z"
    },
    "tags": []
   },
   "outputs": [
    {
     "name": "stdout",
     "output_type": "stream",
     "text": [
      "Acutal Seq: 05470\n",
      "Predicted Seq: 05476\n"
     ]
    },
    {
     "data": {
      "text/plain": [
       "'Recognition failed!'"
      ]
     },
     "execution_count": 29,
     "metadata": {},
     "output_type": "execute_result"
    },
    {
     "data": {
      "image/png": "[encoded data removed]",
      "text/plain": [
       "<Figure size 1000x600 with 1 Axes>"
      ]
     },
     "metadata": {},
     "output_type": "display_data"
    }
   ],
   "source": [
    "failed_rec_ind = np.array([a != b for a, b in zip(pred_decoded, sample_seqs_raw)]).argmax()\n",
    "compare_pred(plt_img=True, ind=failed_rec_ind)"
   ]
  },
  {
   "cell_type": "markdown",
   "id": "ae66bc9a-b241-4fda-aea8-ac89168d627b",
   "metadata": {},
   "source": [
    "# Model Evaluation"
   ]
  },
  {
   "cell_type": "code",
   "execution_count": 30,
   "id": "f4e23b80-f4e0-4b2e-b973-8b01fcd35fde",
   "metadata": {
    "execution": {
     "iopub.execute_input": "2023-04-05T00:22:20.294228Z",
     "iopub.status.busy": "2023-04-05T00:22:20.294114Z",
     "iopub.status.idle": "2023-04-05T00:22:20.298033Z",
     "shell.execute_reply": "2023-04-05T00:22:20.297681Z",
     "shell.execute_reply.started": "2023-04-05T00:22:20.294218Z"
    },
    "tags": []
   },
   "outputs": [],
   "source": [
    "def eval_prediction(model=crnn_model, loader=val_loader):\n",
    "    model.eval()\n",
    "    pred_df_list = []\n",
    "    for inputs, targets, target_raw, file_path in loader:\n",
    "        y_pred = model(inputs, decode=True)\n",
    "        pred_df_list += [pd.DataFrame({'img_path': file_path, 'actual_label': target_raw, 'pred': y_pred})]\n",
    "        \n",
    "    pred_df = pd.concat(pred_df_list, ignore_index=True)\n",
    "    \n",
    "    print(f\"Accuracy Score: {accuracy_score(pred_df['actual_label'], pred_df['pred'])}\")\n",
    "    return pred_df"
   ]
  },
  {
   "cell_type": "code",
   "execution_count": 31,
   "id": "9575e7b9-582d-4bbc-9341-da0cbcacb96f",
   "metadata": {
    "execution": {
     "iopub.execute_input": "2023-04-05T00:22:20.298643Z",
     "iopub.status.busy": "2023-04-05T00:22:20.298536Z",
     "iopub.status.idle": "2023-04-05T00:22:55.618167Z",
     "shell.execute_reply": "2023-04-05T00:22:55.617769Z",
     "shell.execute_reply.started": "2023-04-05T00:22:20.298633Z"
    },
    "tags": []
   },
   "outputs": [
    {
     "name": "stdout",
     "output_type": "stream",
     "text": [
      "Accuracy Score: 0.9460555555555555\n"
     ]
    }
   ],
   "source": [
    "acc_df = eval_prediction(loader=train_loader)"
   ]
  },
  {
   "cell_type": "code",
   "execution_count": 32,
   "id": "2e08c122-ce1e-47b9-be1e-6d3c8e1363f2",
   "metadata": {
    "execution": {
     "iopub.execute_input": "2023-04-05T00:22:55.619006Z",
     "iopub.status.busy": "2023-04-05T00:22:55.618856Z",
     "iopub.status.idle": "2023-04-05T00:22:57.399769Z",
     "shell.execute_reply": "2023-04-05T00:22:57.399356Z",
     "shell.execute_reply.started": "2023-04-05T00:22:55.618992Z"
    },
    "tags": []
   },
   "outputs": [
    {
     "name": "stdout",
     "output_type": "stream",
     "text": [
      "Accuracy Score: 0.832\n"
     ]
    }
   ],
   "source": [
    "val_df = eval_prediction()"
   ]
  },
  {
   "cell_type": "code",
   "execution_count": 33,
   "id": "abc39432-72ad-4a5f-9326-606fb93df5b6",
   "metadata": {
    "execution": {
     "iopub.execute_input": "2023-04-05T03:18:46.937621Z",
     "iopub.status.busy": "2023-04-05T03:18:46.936549Z",
     "iopub.status.idle": "2023-04-05T03:18:49.755470Z",
     "shell.execute_reply": "2023-04-05T03:18:49.754842Z",
     "shell.execute_reply.started": "2023-04-05T03:18:46.937566Z"
    },
    "tags": []
   },
   "outputs": [
    {
     "name": "stdout",
     "output_type": "stream",
     "text": [
      "Accuracy Score: 0.844\n"
     ]
    }
   ],
   "source": [
    "crnn_120 = torch.load('Model/CRNN/model_ep120.pt')\n",
    "val_120_df = eval_prediction(model=crnn_120)"
   ]
  },
  {
   "cell_type": "code",
   "execution_count": 34,
   "id": "17ae5b28-224d-48e3-8c30-11c6df0c01cb",
   "metadata": {
    "execution": {
     "iopub.execute_input": "2023-04-05T03:18:49.756893Z",
     "iopub.status.busy": "2023-04-05T03:18:49.756748Z",
     "iopub.status.idle": "2023-04-05T03:18:51.575657Z",
     "shell.execute_reply": "2023-04-05T03:18:51.575213Z",
     "shell.execute_reply.started": "2023-04-05T03:18:49.756878Z"
    },
    "tags": []
   },
   "outputs": [
    {
     "name": "stdout",
     "output_type": "stream",
     "text": [
      "Accuracy Score: 0.842\n"
     ]
    }
   ],
   "source": [
    "crnn_130 = torch.load('Model/CRNN/model_ep130.pt')\n",
    "val_130_df = eval_prediction(model=crnn_130)"
   ]
  },
  {
   "cell_type": "code",
   "execution_count": 35,
   "id": "371ffa71-f6eb-4534-8bd9-4b47ddc54930",
   "metadata": {
    "execution": {
     "iopub.execute_input": "2023-04-05T03:18:56.097818Z",
     "iopub.status.busy": "2023-04-05T03:18:56.096790Z",
     "iopub.status.idle": "2023-04-05T03:18:56.104414Z",
     "shell.execute_reply": "2023-04-05T03:18:56.103411Z",
     "shell.execute_reply.started": "2023-04-05T03:18:56.097757Z"
    },
    "tags": []
   },
   "outputs": [],
   "source": [
    "# since the model at 120th epoch had a better accuracy on validation data, it is chosen to be the final model.\n",
    "final_model = crnn_120"
   ]
  },
  {
   "cell_type": "code",
   "execution_count": 36,
   "id": "29db1660-3291-489e-b43b-bef3bf7835cc",
   "metadata": {
    "execution": {
     "iopub.execute_input": "2023-04-05T03:18:56.804467Z",
     "iopub.status.busy": "2023-04-05T03:18:56.803918Z",
     "iopub.status.idle": "2023-04-05T03:18:58.707712Z",
     "shell.execute_reply": "2023-04-05T03:18:58.707258Z",
     "shell.execute_reply.started": "2023-04-05T03:18:56.804437Z"
    },
    "tags": []
   },
   "outputs": [
    {
     "name": "stdout",
     "output_type": "stream",
     "text": [
      "Accuracy Score: 0.835\n"
     ]
    }
   ],
   "source": [
    "test_df = eval_prediction(model=final_model, loader=test_loader)"
   ]
  },
  {
   "cell_type": "code",
   "execution_count": 37,
   "id": "34eb6124-8a76-4712-8ed9-a5c6a4b92d24",
   "metadata": {
    "execution": {
     "iopub.execute_input": "2023-04-05T03:18:58.708840Z",
     "iopub.status.busy": "2023-04-05T03:18:58.708706Z",
     "iopub.status.idle": "2023-04-05T03:18:58.713315Z",
     "shell.execute_reply": "2023-04-05T03:18:58.712938Z",
     "shell.execute_reply.started": "2023-04-05T03:18:58.708828Z"
    },
    "tags": []
   },
   "outputs": [],
   "source": [
    "long_img_seq = SeqImg(folder_path='img/12_digits', transform=trans_to_tensor)"
   ]
  },
  {
   "cell_type": "code",
   "execution_count": 38,
   "id": "94563a9d-f0c3-473d-8e18-ee4394bb79bf",
   "metadata": {
    "execution": {
     "iopub.execute_input": "2023-04-05T03:18:58.859880Z",
     "iopub.status.busy": "2023-04-05T03:18:58.859475Z",
     "iopub.status.idle": "2023-04-05T03:18:58.863987Z",
     "shell.execute_reply": "2023-04-05T03:18:58.863318Z",
     "shell.execute_reply.started": "2023-04-05T03:18:58.859867Z"
    },
    "tags": []
   },
   "outputs": [],
   "source": [
    "long_img_loader = DataLoader(long_img_seq, batch_size=100, collate_fn=padding_collate)"
   ]
  },
  {
   "cell_type": "code",
   "execution_count": 39,
   "id": "74367256-e6bc-410e-924f-095afd6c5a88",
   "metadata": {
    "execution": {
     "iopub.execute_input": "2023-04-05T03:19:01.084086Z",
     "iopub.status.busy": "2023-04-05T03:19:01.083559Z",
     "iopub.status.idle": "2023-04-05T03:19:01.526891Z",
     "shell.execute_reply": "2023-04-05T03:19:01.526435Z",
     "shell.execute_reply.started": "2023-04-05T03:19:01.084057Z"
    },
    "tags": []
   },
   "outputs": [
    {
     "name": "stdout",
     "output_type": "stream",
     "text": [
      "Number of correct recognition: 52\n",
      "Number of incorrect recognition: 48\n"
     ]
    }
   ],
   "source": [
    "final_model.eval()\n",
    "\n",
    "for long_img, long_labels, long_labels_raw, long_file_path in long_img_loader:\n",
    "    long_pred = final_model(long_img, decode=True)\n",
    "\n",
    "print(f\"Number of correct recognition: {sum(a == b for a, b in zip(long_pred, long_labels_raw))}\")\n",
    "print(f\"Number of incorrect recognition: {sum(a != b for a, b in zip(long_pred, long_labels_raw))}\")"
   ]
  },
  {
   "cell_type": "code",
   "execution_count": 40,
   "id": "4c90f4dd-93b2-4819-b92e-176990247fcc",
   "metadata": {
    "execution": {
     "iopub.execute_input": "2023-04-05T03:19:03.641895Z",
     "iopub.status.busy": "2023-04-05T03:19:03.641193Z",
     "iopub.status.idle": "2023-04-05T03:19:03.672086Z",
     "shell.execute_reply": "2023-04-05T03:19:03.671132Z",
     "shell.execute_reply.started": "2023-04-05T03:19:03.641862Z"
    },
    "tags": []
   },
   "outputs": [],
   "source": [
    "torch.save(final_model, 'Model/CRNN/final_CRNN_model.pt')"
   ]
  },
  {
   "cell_type": "code",
   "execution_count": null,
   "id": "6f62f2d4-af67-45a5-bbb0-6df27a6a8454",
   "metadata": {},
   "outputs": [],
   "source": []
  }
 ],
 "metadata": {
  "kernelspec": {
   "display_name": "Python 3 (ipykernel)",
   "language": "python",
   "name": "python3"
  },
  "language_info": {
   "codemirror_mode": {
    "name": "ipython",
    "version": 3
   },
   "file_extension": ".py",
   "mimetype": "text/x-python",
   "name": "python",
   "nbconvert_exporter": "python",
   "pygments_lexer": "ipython3",
   "version": "3.10.9"
  }
 },
 "nbformat": 4,
 "nbformat_minor": 5
}
