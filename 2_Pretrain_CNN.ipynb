{
 "cells": [
  {
   "cell_type": "code",
   "execution_count": 1,
   "id": "9291a749-b9aa-4aac-8f2e-ef7e61acedaf",
   "metadata": {
    "execution": {
     "iopub.execute_input": "2023-04-04T11:17:55.350081Z",
     "iopub.status.busy": "2023-04-04T11:17:55.349150Z",
     "iopub.status.idle": "2023-04-04T11:17:55.406332Z",
     "shell.execute_reply": "2023-04-04T11:17:55.405229Z",
     "shell.execute_reply.started": "2023-04-04T11:17:55.350031Z"
    },
    "tags": []
   },
   "outputs": [],
   "source": [
    "%load_ext tensorboard"
   ]
  },
  {
   "cell_type": "code",
   "execution_count": 2,
   "id": "b80397b1-6452-4cda-afa8-9956a2bc9af1",
   "metadata": {
    "execution": {
     "iopub.execute_input": "2023-04-04T11:17:55.408332Z",
     "iopub.status.busy": "2023-04-04T11:17:55.408175Z",
     "iopub.status.idle": "2023-04-04T11:17:57.341362Z",
     "shell.execute_reply": "2023-04-04T11:17:57.340969Z",
     "shell.execute_reply.started": "2023-04-04T11:17:55.408317Z"
    },
    "tags": []
   },
   "outputs": [],
   "source": [
    "from typing import Optional, Callable, Union\n",
    "import numpy as np\n",
    "import pandas as pd\n",
    "\n",
    "from pathlib import Path\n",
    "import glob\n",
    "\n",
    "import matplotlib.pyplot as plt\n",
    "from PIL import Image\n",
    "\n",
    "from tqdm import tqdm\n",
    "\n",
    "import torch\n",
    "import torch.nn as nn\n",
    "from torch import optim\n",
    "from torch.utils.data import Dataset, DataLoader, random_split\n",
    "from torchvision import transforms\n",
    "from torch.utils.tensorboard import SummaryWriter\n",
    "\n",
    "from sklearn.metrics import accuracy_score, classification_report, confusion_matrix\n",
    "\n",
    "import warnings\n",
    "warnings.filterwarnings('ignore')\n",
    "\n",
    "# custom class for Early Stop and function for fixing random seed\n",
    "from early_stop import EarlyStopper\n",
    "from random_seed import seed_everything"
   ]
  },
  {
   "cell_type": "code",
   "execution_count": 3,
   "id": "063f3283-9ae5-436f-b8e5-71dc02791bb1",
   "metadata": {
    "execution": {
     "iopub.execute_input": "2023-04-04T11:17:57.343627Z",
     "iopub.status.busy": "2023-04-04T11:17:57.343411Z",
     "iopub.status.idle": "2023-04-04T11:17:57.347046Z",
     "shell.execute_reply": "2023-04-04T11:17:57.346708Z",
     "shell.execute_reply.started": "2023-04-04T11:17:57.343615Z"
    }
   },
   "outputs": [],
   "source": [
    "seed_everything(42)"
   ]
  },
  {
   "cell_type": "code",
   "execution_count": 4,
   "id": "175b1854-6f6a-4ef4-8b19-f4508f061597",
   "metadata": {
    "execution": {
     "iopub.execute_input": "2023-04-04T11:17:57.347608Z",
     "iopub.status.busy": "2023-04-04T11:17:57.347500Z",
     "iopub.status.idle": "2023-04-04T11:17:57.349840Z",
     "shell.execute_reply": "2023-04-04T11:17:57.349261Z",
     "shell.execute_reply.started": "2023-04-04T11:17:57.347598Z"
    },
    "tags": []
   },
   "outputs": [],
   "source": [
    "learning_rate = 0.01\n",
    "batch_size = 256\n",
    "epochs = 100\n",
    "\n",
    "img_height = 40\n",
    "img_width = 10"
   ]
  },
  {
   "cell_type": "code",
   "execution_count": 5,
   "id": "201edb50-ab43-408c-99eb-5d6e26366b8f",
   "metadata": {
    "execution": {
     "iopub.execute_input": "2023-04-04T11:17:57.351506Z",
     "iopub.status.busy": "2023-04-04T11:17:57.351271Z",
     "iopub.status.idle": "2023-04-04T11:17:57.357074Z",
     "shell.execute_reply": "2023-04-04T11:17:57.356575Z",
     "shell.execute_reply.started": "2023-04-04T11:17:57.351492Z"
    },
    "tags": []
   },
   "outputs": [],
   "source": [
    "class SeqImg(Dataset):\n",
    "    def __init__(self, folder_path='img/single_digit', transform=None):\n",
    "        self.folder_path = folder_path\n",
    "        self.files_list = glob.glob(self.folder_path + '/*.png', recursive=True)\n",
    "        self.labels_list = [int(Path(x).name.split('_')[0]) for x in self.files_list]\n",
    "        self.data_df = pd.DataFrame({'file_path': self.files_list, 'label': self.labels_list})\n",
    "        \n",
    "        self.transform = transform\n",
    "        \n",
    "    def __len__(self):\n",
    "        return len(self.files_list)\n",
    "    \n",
    "    def __getitem__(self, index: int):\n",
    "        image = np.asarray(Image.open(self.files_list[index]))\n",
    "        label = torch.tensor(self.labels_list[index])\n",
    "        file_path = self.files_list[index]\n",
    "        if self.transform is not None:\n",
    "            image = self.transform(image)            \n",
    "        return image, label, file_path"
   ]
  },
  {
   "cell_type": "code",
   "execution_count": 6,
   "id": "4469e1ce-3aba-4a0e-95e6-13153c58e04e",
   "metadata": {
    "execution": {
     "iopub.execute_input": "2023-04-04T11:17:57.357896Z",
     "iopub.status.busy": "2023-04-04T11:17:57.357699Z",
     "iopub.status.idle": "2023-04-04T11:17:57.359824Z",
     "shell.execute_reply": "2023-04-04T11:17:57.359474Z",
     "shell.execute_reply.started": "2023-04-04T11:17:57.357884Z"
    },
    "tags": []
   },
   "outputs": [],
   "source": [
    "trans_to_tensor = transforms.ToTensor()"
   ]
  },
  {
   "cell_type": "code",
   "execution_count": 7,
   "id": "75e5503c-5db4-483f-9e60-fb1b34286afd",
   "metadata": {
    "execution": {
     "iopub.execute_input": "2023-04-04T11:17:57.361686Z",
     "iopub.status.busy": "2023-04-04T11:17:57.361156Z",
     "iopub.status.idle": "2023-04-04T11:17:57.381240Z",
     "shell.execute_reply": "2023-04-04T11:17:57.380705Z",
     "shell.execute_reply.started": "2023-04-04T11:17:57.361669Z"
    },
    "tags": []
   },
   "outputs": [],
   "source": [
    "img_dataset = SeqImg(transform=trans_to_tensor)"
   ]
  },
  {
   "cell_type": "code",
   "execution_count": 8,
   "id": "115632a2-fa36-40f8-a6b1-f7b8438981ce",
   "metadata": {
    "execution": {
     "iopub.execute_input": "2023-04-04T11:17:57.382047Z",
     "iopub.status.busy": "2023-04-04T11:17:57.381914Z",
     "iopub.status.idle": "2023-04-04T11:17:57.386668Z",
     "shell.execute_reply": "2023-04-04T11:17:57.386224Z",
     "shell.execute_reply.started": "2023-04-04T11:17:57.382035Z"
    }
   },
   "outputs": [
    {
     "data": {
      "text/plain": [
       "2000"
      ]
     },
     "execution_count": 8,
     "metadata": {},
     "output_type": "execute_result"
    }
   ],
   "source": [
    "len(img_dataset)"
   ]
  },
  {
   "cell_type": "code",
   "execution_count": 9,
   "id": "79b397fb-2e1a-4539-a1e4-6a1b0b651f3b",
   "metadata": {
    "execution": {
     "iopub.execute_input": "2023-04-04T11:17:57.387469Z",
     "iopub.status.busy": "2023-04-04T11:17:57.387305Z",
     "iopub.status.idle": "2023-04-04T11:17:57.390256Z",
     "shell.execute_reply": "2023-04-04T11:17:57.389851Z",
     "shell.execute_reply.started": "2023-04-04T11:17:57.387457Z"
    }
   },
   "outputs": [],
   "source": [
    "train_test_split_size = (len(img_dataset) - 300, 300)\n",
    "train_val_ds, test_ds = random_split(img_dataset, train_test_split_size)"
   ]
  },
  {
   "cell_type": "code",
   "execution_count": 10,
   "id": "7561475e-7dce-4390-b6da-88277b0002ee",
   "metadata": {
    "execution": {
     "iopub.execute_input": "2023-04-04T11:17:57.391189Z",
     "iopub.status.busy": "2023-04-04T11:17:57.391025Z",
     "iopub.status.idle": "2023-04-04T11:17:57.393751Z",
     "shell.execute_reply": "2023-04-04T11:17:57.393264Z",
     "shell.execute_reply.started": "2023-04-04T11:17:57.391176Z"
    }
   },
   "outputs": [],
   "source": [
    "train_val_split_size = (len(train_val_ds) - 200, 200)\n",
    "train_ds, val_ds = random_split(train_val_ds, train_val_split_size)"
   ]
  },
  {
   "cell_type": "code",
   "execution_count": 11,
   "id": "7092a91f-01ce-4f07-b73f-840705fab8dc",
   "metadata": {
    "execution": {
     "iopub.execute_input": "2023-04-04T11:17:57.394567Z",
     "iopub.status.busy": "2023-04-04T11:17:57.394414Z",
     "iopub.status.idle": "2023-04-04T11:17:57.397520Z",
     "shell.execute_reply": "2023-04-04T11:17:57.397158Z",
     "shell.execute_reply.started": "2023-04-04T11:17:57.394555Z"
    }
   },
   "outputs": [
    {
     "data": {
      "text/plain": [
       "1500"
      ]
     },
     "execution_count": 11,
     "metadata": {},
     "output_type": "execute_result"
    }
   ],
   "source": [
    "len(train_ds)"
   ]
  },
  {
   "cell_type": "code",
   "execution_count": 12,
   "id": "ba32f342-5d1b-4a0c-a8c7-22c929edcdce",
   "metadata": {
    "execution": {
     "iopub.execute_input": "2023-04-04T11:17:57.401929Z",
     "iopub.status.busy": "2023-04-04T11:17:57.401683Z",
     "iopub.status.idle": "2023-04-04T11:17:57.405061Z",
     "shell.execute_reply": "2023-04-04T11:17:57.404592Z",
     "shell.execute_reply.started": "2023-04-04T11:17:57.401913Z"
    }
   },
   "outputs": [],
   "source": [
    "train_loader = DataLoader(train_ds, batch_size=batch_size, shuffle=True)\n",
    "val_loader = DataLoader(val_ds, batch_size=200, shuffle=True)\n",
    "test_loader = DataLoader(test_ds, batch_size=300, shuffle=True)"
   ]
  },
  {
   "cell_type": "code",
   "execution_count": 13,
   "id": "4b3a1ead-fb7d-4bf1-912f-5e0498541603",
   "metadata": {
    "execution": {
     "iopub.execute_input": "2023-04-04T11:17:57.405871Z",
     "iopub.status.busy": "2023-04-04T11:17:57.405698Z",
     "iopub.status.idle": "2023-04-04T11:17:57.565612Z",
     "shell.execute_reply": "2023-04-04T11:17:57.565131Z",
     "shell.execute_reply.started": "2023-04-04T11:17:57.405858Z"
    },
    "tags": []
   },
   "outputs": [
    {
     "data": {
      "image/png": "[encoded data removed]",
      "text/plain": [
       "<Figure size 1000x600 with 5 Axes>"
      ]
     },
     "metadata": {},
     "output_type": "display_data"
    }
   ],
   "source": [
    "sample_img, sample_labels, sample_file_path = next(iter(train_loader))\n",
    "\n",
    "plt.rcParams['figure.figsize'] = (10, 6)\n",
    "fig, axs = plt.subplots(ncols=5)\n",
    "\n",
    "for i, img_arr in enumerate(sample_img[0:5]):\n",
    "    axs[i].imshow(transforms.ToPILImage()(img_arr))\n",
    "    axs[i].axis('off')"
   ]
  },
  {
   "cell_type": "markdown",
   "id": "f1e27e6d-ab9a-4d61-aebd-a88926193681",
   "metadata": {},
   "source": [
    "# Model Building"
   ]
  },
  {
   "cell_type": "code",
   "execution_count": 14,
   "id": "26c17297-969e-4b0c-8630-3184ba68c8d3",
   "metadata": {
    "execution": {
     "iopub.execute_input": "2023-04-04T11:17:57.566553Z",
     "iopub.status.busy": "2023-04-04T11:17:57.566368Z",
     "iopub.status.idle": "2023-04-04T11:17:57.573416Z",
     "shell.execute_reply": "2023-04-04T11:17:57.572829Z",
     "shell.execute_reply.started": "2023-04-04T11:17:57.566541Z"
    },
    "tags": []
   },
   "outputs": [],
   "source": [
    "class CNN(nn.Module):\n",
    "    def __init__(self, img_height=img_height, img_width=img_width, conv1_channel=64, conv2_channel=32, fc_node=1024):\n",
    "        super().__init__()\n",
    "        \n",
    "        self.conv_blocks = nn.Sequential(*[\n",
    "            nn.Conv2d(3, conv1_channel, 3, padding=1),\n",
    "            nn.BatchNorm2d(conv1_channel),\n",
    "            nn.ReLU(),\n",
    "            nn.MaxPool2d(2, 2),\n",
    "            \n",
    "            nn.Conv2d(conv1_channel, conv2_channel, 3, padding=1), \n",
    "            nn.BatchNorm2d(conv2_channel),\n",
    "            nn.ReLU(),\n",
    "            nn.MaxPool2d(2, 2)\n",
    "        ])\n",
    "        \n",
    "        self.fc_block = nn.Sequential(*[\n",
    "            nn.Flatten(),\n",
    "            nn.Linear((img_height//4) * (img_width//4) * conv2_channel, fc_node),\n",
    "            nn.BatchNorm1d(fc_node),\n",
    "            nn.ReLU(),\n",
    "            nn.Linear(fc_node, 10)\n",
    "        ])\n",
    "       \n",
    "        self.softmax = nn.Softmax(dim=-1)\n",
    "        \n",
    "    def forward(self, X, softmax=False):\n",
    "        X = self.conv_blocks(X)\n",
    "        X = self.fc_block(X)\n",
    "        if softmax:\n",
    "            X = self.softmax(X)\n",
    "            \n",
    "        return X"
   ]
  },
  {
   "cell_type": "code",
   "execution_count": 15,
   "id": "1662ddc4-1b6e-4d79-b821-3bfefb804f43",
   "metadata": {
    "execution": {
     "iopub.execute_input": "2023-04-04T11:17:57.574405Z",
     "iopub.status.busy": "2023-04-04T11:17:57.574206Z",
     "iopub.status.idle": "2023-04-04T11:17:57.583926Z",
     "shell.execute_reply": "2023-04-04T11:17:57.583410Z",
     "shell.execute_reply.started": "2023-04-04T11:17:57.574391Z"
    },
    "tags": []
   },
   "outputs": [],
   "source": [
    "def train_classification_model(data_loader: DataLoader, lr: float, epochs: int,\n",
    "                               model_trained: Optional[nn.Module] = None, model_class: Optional[Callable] = None, \n",
    "                               num_epochs_to_save: float = np.inf, model_path: str = 'Model/Pretrained_CNN', \n",
    "                               train_acc: bool = False, epochs_trained_before: int = 0,\n",
    "                               early_stop: bool = False, es_after_epoch: int = 0, val_loader: Optional[DataLoader] = None, \n",
    "                               patience: int = 10, min_delta: float = 0, tensorboard_path: str = 'runs/CNN',                              \n",
    "                               **kwargs) -> nn.Module:\n",
    "    \n",
    "    \"\"\"\n",
    "    data_loader: Data Loader of training data.\n",
    "    \n",
    "    lr, epochs: Hyperparameters. \n",
    "    \n",
    "    model_trained, model_class: Either a trained model instance (model_trained), or a model class that is callable (model_class) to create a new model instance.\n",
    "    \n",
    "    num_epochs_to_save, model_path: For every `num_epochs_to_save` epochs, th emodel will be saved to folder `model_path`. `num_epochs_to_save=np.inf` means never save the model.\n",
    "    \n",
    "    train_acc: Calculate the training accuracy for every epoch (and send to Tensorboard) or not\n",
    "    \n",
    "    epochs_trained_before: if the model is trained before, this number is added to the number of epochs in this training process. Useful when passing a trained model to here for more training epochs.\n",
    "    \n",
    "    early_stop: Early Stop or not.\n",
    "    \n",
    "    es_after_epoch: Epochs smaller than `es_after_epoch` will not trigger the calculation of early stop.\n",
    "    \n",
    "    val_loader: Data Loader of validation data (for early stop).\n",
    "    \n",
    "    patience, min_delta: arguments for `EarlyStopper`\n",
    "    \n",
    "    tensorboard_path: Folder path where the `SummaryWriter` for Tensorboard to write the data to\n",
    "    \n",
    "    kwargs: arguments for the callable model class(if any)     \n",
    "    \"\"\"\n",
    "    \n",
    "    writer = SummaryWriter(tensorboard_path)\n",
    "    \n",
    "    Path(model_path).mkdir(parents=True, exist_ok=True)\n",
    "    \n",
    "    model_to_train = model_trained or model_class(**kwargs)\n",
    "    opt = optim.Adam(model_to_train.parameters(), lr=lr)\n",
    "    loss_fn = nn.CrossEntropyLoss()\n",
    "    \n",
    "    if early_stop:\n",
    "        early_stopper = EarlyStopper(patience, min_delta)\n",
    "        \n",
    "    for epoch in tqdm(range(epochs_trained_before, epochs_trained_before + epochs), position=0):\n",
    "        model_to_train.train()\n",
    "        tot_loss = 0\n",
    "        num_data = 0\n",
    "        for inputs, targets, *_ in data_loader:\n",
    "            opt.zero_grad()\n",
    "            y_pred = model_to_train(inputs)\n",
    "            loss = loss_fn(y_pred, targets)\n",
    "            tot_loss += loss * len(targets)\n",
    "            num_data += len(targets)\n",
    "            loss.backward()\n",
    "            opt.step()\n",
    "        writer.add_scalar('Loss/train', tot_loss / num_data, epoch)\n",
    "        \n",
    "        if not( (epoch + 1) % num_epochs_to_save):\n",
    "            Path(model_path).mkdir(parents=True, exist_ok=True)\n",
    "            torch.save(model_to_train, model_path + f'/model_ep{epoch + 1}.pt')\n",
    "        \n",
    "        if train_acc:\n",
    "            model_to_train.eval()\n",
    "            correct_train = 0\n",
    "            for inputs, targets, *_ in data_loader:\n",
    "                y_pred = model_to_train(inputs, softmax=True).argmax(dim=-1)\n",
    "                correct_train += sum([a==b for a, b in zip(y_pred, targets)])\n",
    "            writer.add_scalar('Accuracy/train', correct_train / num_data, epoch)\n",
    "            \n",
    "        if early_stop and (epoch + 1) > es_after_epoch:\n",
    "            model_to_train.eval()\n",
    "            tot_val_loss = 0\n",
    "            num_val_data = 0\n",
    "            for inputs, targets, *_ in val_loader:\n",
    "                y_pred = model_to_train(inputs)\n",
    "                loss = loss_fn(y_pred, targets)\n",
    "                tot_val_loss += loss * len(targets)\n",
    "                num_val_data += len(targets)\n",
    "            writer.add_scalar('Loss/validation', tot_val_loss / num_val_data, epoch)\n",
    "            stop_training = early_stopper(tot_val_loss / num_val_data)\n",
    "            if stop_training:\n",
    "                print(f\"Training early stopped at Epoch {epoch + 1}.\")\n",
    "                torch.save(model_to_train, model_path + f'/model_ep{epoch + 1}.pt')\n",
    "                writer.flush()\n",
    "                writer.close()\n",
    "                return model_to_train\n",
    "            \n",
    "    torch.save(model_to_train, model_path + f'/model_ep{epoch + 1}.pt')\n",
    "    writer.flush()\n",
    "    writer.close()\n",
    "    return model_to_train"
   ]
  },
  {
   "cell_type": "code",
   "execution_count": 16,
   "id": "4922a114-dd0c-4c39-ae1b-9bb885bd5fab",
   "metadata": {
    "execution": {
     "iopub.execute_input": "2023-04-04T11:17:57.584929Z",
     "iopub.status.busy": "2023-04-04T11:17:57.584715Z",
     "iopub.status.idle": "2023-04-04T11:17:59.440402Z",
     "shell.execute_reply": "2023-04-04T11:17:59.439724Z",
     "shell.execute_reply.started": "2023-04-04T11:17:57.584916Z"
    },
    "tags": []
   },
   "outputs": [
    {
     "name": "stderr",
     "output_type": "stream",
     "text": [
      "  0%|                                                     | 0/1 [00:00<?, ?it/s][W NNPACK.cpp:51] Could not initialize NNPACK! Reason: Unsupported hardware.\n",
      "100%|█████████████████████████████████████████████| 1/1 [00:01<00:00,  1.82s/it]\n"
     ]
    }
   ],
   "source": [
    "cnn_model = train_classification_model(train_loader, lr=learning_rate, epochs=1, model_class=CNN)"
   ]
  },
  {
   "cell_type": "code",
   "execution_count": 17,
   "id": "8d254bf9-8a09-4bc4-8153-b221b78564be",
   "metadata": {
    "execution": {
     "iopub.execute_input": "2023-04-04T11:17:59.442166Z",
     "iopub.status.busy": "2023-04-04T11:17:59.441709Z",
     "iopub.status.idle": "2023-04-04T11:18:00.479223Z",
     "shell.execute_reply": "2023-04-04T11:18:00.478661Z",
     "shell.execute_reply.started": "2023-04-04T11:17:59.442148Z"
    },
    "tags": []
   },
   "outputs": [
    {
     "data": {
      "text/html": [
       "\n",
       "      <iframe id=\"tensorboard-frame-1c80317fa3b1799d\" width=\"100%\" height=\"800\" frameborder=\"0\">\n",
       "      </iframe>\n",
       "      <script>\n",
       "        (function() {\n",
       "          const frame = document.getElementById(\"tensorboard-frame-1c80317fa3b1799d\");\n",
       "          const url = new URL(\"/\", window.location);\n",
       "          const port = 6006;\n",
       "          if (port) {\n",
       "            url.port = port;\n",
       "          }\n",
       "          frame.src = url;\n",
       "        })();\n",
       "      </script>\n",
       "    "
      ],
      "text/plain": [
       "<IPython.core.display.HTML object>"
      ]
     },
     "metadata": {},
     "output_type": "display_data"
    }
   ],
   "source": [
    "%tensorboard --logdir=runs"
   ]
  },
  {
   "cell_type": "code",
   "execution_count": 18,
   "id": "4c020141-0664-443b-b693-54f936e75e65",
   "metadata": {
    "execution": {
     "iopub.execute_input": "2023-04-04T11:18:00.480471Z",
     "iopub.status.busy": "2023-04-04T11:18:00.480310Z",
     "iopub.status.idle": "2023-04-04T11:20:58.590629Z",
     "shell.execute_reply": "2023-04-04T11:20:58.589943Z",
     "shell.execute_reply.started": "2023-04-04T11:18:00.480454Z"
    },
    "tags": []
   },
   "outputs": [
    {
     "name": "stderr",
     "output_type": "stream",
     "text": [
      " 57%|███████████████████████▌                 | 115/200 [02:58<02:11,  1.55s/it]"
     ]
    },
    {
     "name": "stdout",
     "output_type": "stream",
     "text": [
      "Training early stopped at Epoch 117.\n"
     ]
    },
    {
     "name": "stderr",
     "output_type": "stream",
     "text": [
      "\n"
     ]
    }
   ],
   "source": [
    "cnn_model = train_classification_model(model_trained=cnn_model, data_loader=train_loader, lr=learning_rate, epochs=200, \n",
    "                                       num_epochs_to_save=10, epochs_trained_before=1, \n",
    "                                       early_stop=True, es_after_epoch=100, val_loader=val_loader)"
   ]
  },
  {
   "cell_type": "markdown",
   "id": "e16ca2b2-38f4-4e48-9551-ce68c4a3def1",
   "metadata": {},
   "source": [
    "# Model Evaluation"
   ]
  },
  {
   "cell_type": "code",
   "execution_count": 19,
   "id": "657f9c05-b7c5-4da1-961d-80a5ab3a138b",
   "metadata": {
    "execution": {
     "iopub.execute_input": "2023-04-04T11:20:58.592045Z",
     "iopub.status.busy": "2023-04-04T11:20:58.591879Z",
     "iopub.status.idle": "2023-04-04T11:20:58.597538Z",
     "shell.execute_reply": "2023-04-04T11:20:58.597094Z",
     "shell.execute_reply.started": "2023-04-04T11:20:58.592032Z"
    },
    "tags": []
   },
   "outputs": [],
   "source": [
    "def eval_prediction(model=cnn_model, loader=val_loader):\n",
    "    model.eval()\n",
    "    pred_df_list = []\n",
    "    for inputs, targets, file_path in loader:\n",
    "        y_pred = model(inputs, softmax=True).argmax(dim=-1)\n",
    "        pred_df_list += [pd.DataFrame({'img_path': file_path, 'actual_label': targets.numpy(), 'pred': y_pred.numpy()})]\n",
    "        \n",
    "    pred_df = pd.concat(pred_df_list, ignore_index=True)\n",
    "    \n",
    "    print(f\"Accuracy Score: {accuracy_score(pred_df['actual_label'], pred_df['pred'])}\")\n",
    "    print(classification_report(pred_df['actual_label'], pred_df['pred']))    \n",
    "    print(confusion_matrix(pred_df['actual_label'], pred_df['pred']))\n",
    "    return pred_df"
   ]
  },
  {
   "cell_type": "code",
   "execution_count": 20,
   "id": "37ed2313-0c4e-49f2-8824-ac5b61d7c4d0",
   "metadata": {
    "execution": {
     "iopub.execute_input": "2023-04-04T11:20:58.598695Z",
     "iopub.status.busy": "2023-04-04T11:20:58.598403Z",
     "iopub.status.idle": "2023-04-04T11:20:58.703089Z",
     "shell.execute_reply": "2023-04-04T11:20:58.702689Z",
     "shell.execute_reply.started": "2023-04-04T11:20:58.598683Z"
    },
    "tags": []
   },
   "outputs": [
    {
     "name": "stdout",
     "output_type": "stream",
     "text": [
      "Accuracy Score: 0.96\n",
      "              precision    recall  f1-score   support\n",
      "\n",
      "           0       0.91      0.95      0.93        22\n",
      "           1       1.00      1.00      1.00        25\n",
      "           2       0.90      0.95      0.93        20\n",
      "           3       1.00      1.00      1.00        16\n",
      "           4       1.00      0.94      0.97        16\n",
      "           5       1.00      0.92      0.96        24\n",
      "           6       0.96      0.96      0.96        25\n",
      "           7       1.00      1.00      1.00        10\n",
      "           8       0.92      0.96      0.94        24\n",
      "           9       0.94      0.94      0.94        18\n",
      "\n",
      "    accuracy                           0.96       200\n",
      "   macro avg       0.96      0.96      0.96       200\n",
      "weighted avg       0.96      0.96      0.96       200\n",
      "\n",
      "[[21  0  0  0  0  0  1  0  0  0]\n",
      " [ 0 25  0  0  0  0  0  0  0  0]\n",
      " [ 0  0 19  0  0  0  0  0  1  0]\n",
      " [ 0  0  0 16  0  0  0  0  0  0]\n",
      " [ 0  0  1  0 15  0  0  0  0  0]\n",
      " [ 1  0  0  0  0 22  0  0  0  1]\n",
      " [ 0  0  1  0  0  0 24  0  0  0]\n",
      " [ 0  0  0  0  0  0  0 10  0  0]\n",
      " [ 1  0  0  0  0  0  0  0 23  0]\n",
      " [ 0  0  0  0  0  0  0  0  1 17]]\n"
     ]
    }
   ],
   "source": [
    "val_df = eval_prediction()"
   ]
  },
  {
   "cell_type": "code",
   "execution_count": 21,
   "id": "e928d144-f7dc-460e-b904-7c002e76ce24",
   "metadata": {
    "execution": {
     "iopub.execute_input": "2023-04-04T11:20:58.704067Z",
     "iopub.status.busy": "2023-04-04T11:20:58.703847Z",
     "iopub.status.idle": "2023-04-04T11:20:58.894648Z",
     "shell.execute_reply": "2023-04-04T11:20:58.894200Z",
     "shell.execute_reply.started": "2023-04-04T11:20:58.704052Z"
    },
    "tags": []
   },
   "outputs": [
    {
     "name": "stdout",
     "output_type": "stream",
     "text": [
      "Accuracy Score: 0.9866666666666667\n",
      "              precision    recall  f1-score   support\n",
      "\n",
      "           0       1.00      1.00      1.00        22\n",
      "           1       1.00      1.00      1.00        24\n",
      "           2       0.97      1.00      0.99        37\n",
      "           3       1.00      1.00      1.00        28\n",
      "           4       1.00      0.97      0.98        32\n",
      "           5       1.00      0.97      0.98        33\n",
      "           6       0.97      0.97      0.97        33\n",
      "           7       0.97      1.00      0.99        39\n",
      "           8       0.96      1.00      0.98        24\n",
      "           9       1.00      0.96      0.98        28\n",
      "\n",
      "    accuracy                           0.99       300\n",
      "   macro avg       0.99      0.99      0.99       300\n",
      "weighted avg       0.99      0.99      0.99       300\n",
      "\n",
      "[[22  0  0  0  0  0  0  0  0  0]\n",
      " [ 0 24  0  0  0  0  0  0  0  0]\n",
      " [ 0  0 37  0  0  0  0  0  0  0]\n",
      " [ 0  0  0 28  0  0  0  0  0  0]\n",
      " [ 0  0  0  0 31  0  0  0  1  0]\n",
      " [ 0  0  0  0  0 32  0  1  0  0]\n",
      " [ 0  0  1  0  0  0 32  0  0  0]\n",
      " [ 0  0  0  0  0  0  0 39  0  0]\n",
      " [ 0  0  0  0  0  0  0  0 24  0]\n",
      " [ 0  0  0  0  0  0  1  0  0 27]]\n"
     ]
    }
   ],
   "source": [
    "test_df = eval_prediction(loader=test_loader)"
   ]
  },
  {
   "cell_type": "code",
   "execution_count": 22,
   "id": "ee46df77-ca1c-484f-beb1-4eb426947d9a",
   "metadata": {
    "execution": {
     "iopub.execute_input": "2023-04-04T11:20:58.895468Z",
     "iopub.status.busy": "2023-04-04T11:20:58.895349Z",
     "iopub.status.idle": "2023-04-04T11:20:58.904375Z",
     "shell.execute_reply": "2023-04-04T11:20:58.903861Z",
     "shell.execute_reply.started": "2023-04-04T11:20:58.895457Z"
    },
    "tags": []
   },
   "outputs": [],
   "source": [
    "torch.save(cnn_model, 'Model/Pretrained_CNN/final_cnn.pt')"
   ]
  }
 ],
 "metadata": {
  "kernelspec": {
   "display_name": "Python 3 (ipykernel)",
   "language": "python",
   "name": "python3"
  },
  "language_info": {
   "codemirror_mode": {
    "name": "ipython",
    "version": 3
   },
   "file_extension": ".py",
   "mimetype": "text/x-python",
   "name": "python",
   "nbconvert_exporter": "python",
   "pygments_lexer": "ipython3",
   "version": "3.10.9"
  }
 },
 "nbformat": 4,
 "nbformat_minor": 5
}
